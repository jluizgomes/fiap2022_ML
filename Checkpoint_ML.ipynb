{
 "cells": [
  {
   "cell_type": "markdown",
   "metadata": {
    "id": "O481ga5RuZf2"
   },
   "source": [
    "# Checkpoint ML"
   ]
  },
  {
   "cell_type": "markdown",
   "metadata": {},
   "source": [
    "### Importação e Montagem do Dataset"
   ]
  },
  {
   "cell_type": "code",
   "execution_count": 1,
   "metadata": {
    "id": "QGuoocbGuV6R"
   },
   "outputs": [],
   "source": [
    "# Import das bibliotecas\n",
    "import pandas as pd\n",
    "import numpy as np\n",
    "import matplotlib.pyplot as plt\n",
    "from sklearn.datasets import load_breast_cancer\n",
    "from sklearn.model_selection import train_test_split\n",
    "from sklearn.metrics import confusion_matrix, ConfusionMatrixDisplay\n",
    "from sklearn.ensemble import RandomForestClassifier\n",
    "from sklearn.datasets import make_classification\n",
    "from sklearn.metrics import accuracy_score, recall_score\n",
    "from sklearn import svm\n",
    "from sklearn.svm import SVC\n",
    "from sklearn.decomposition import PCA\n",
    "from sklearn.linear_model import LogisticRegression\n",
    "from sklearn.metrics import recall_score\n",
    "from collections import Counter\n",
    "import matplotlib.pyplot as plt"
   ]
  },
  {
   "cell_type": "code",
   "execution_count": 2,
   "metadata": {
    "id": "GrkN-Almu4zH"
   },
   "outputs": [],
   "source": [
    "# Carregar os dados \n",
    "breast = load_breast_cancer()\n",
    "breast_data = breast.data\n",
    "breast_labels = breast.target\n",
    "labels = np.reshape(breast_labels, (569, 1))"
   ]
  },
  {
   "cell_type": "code",
   "execution_count": 3,
   "metadata": {
    "id": "vZIkup7evDJ3"
   },
   "outputs": [
    {
     "data": {
      "text/html": [
       "<div>\n",
       "<style scoped>\n",
       "    .dataframe tbody tr th:only-of-type {\n",
       "        vertical-align: middle;\n",
       "    }\n",
       "\n",
       "    .dataframe tbody tr th {\n",
       "        vertical-align: top;\n",
       "    }\n",
       "\n",
       "    .dataframe thead th {\n",
       "        text-align: right;\n",
       "    }\n",
       "</style>\n",
       "<table border=\"1\" class=\"dataframe\">\n",
       "  <thead>\n",
       "    <tr style=\"text-align: right;\">\n",
       "      <th></th>\n",
       "      <th>mean radius</th>\n",
       "      <th>mean texture</th>\n",
       "      <th>mean perimeter</th>\n",
       "      <th>mean area</th>\n",
       "      <th>mean smoothness</th>\n",
       "      <th>mean compactness</th>\n",
       "      <th>mean concavity</th>\n",
       "      <th>mean concave points</th>\n",
       "      <th>mean symmetry</th>\n",
       "      <th>mean fractal dimension</th>\n",
       "      <th>...</th>\n",
       "      <th>worst texture</th>\n",
       "      <th>worst perimeter</th>\n",
       "      <th>worst area</th>\n",
       "      <th>worst smoothness</th>\n",
       "      <th>worst compactness</th>\n",
       "      <th>worst concavity</th>\n",
       "      <th>worst concave points</th>\n",
       "      <th>worst symmetry</th>\n",
       "      <th>worst fractal dimension</th>\n",
       "      <th>label</th>\n",
       "    </tr>\n",
       "  </thead>\n",
       "  <tbody>\n",
       "    <tr>\n",
       "      <th>0</th>\n",
       "      <td>17.99</td>\n",
       "      <td>10.38</td>\n",
       "      <td>122.8</td>\n",
       "      <td>1001.0</td>\n",
       "      <td>0.11840</td>\n",
       "      <td>0.27760</td>\n",
       "      <td>0.3001</td>\n",
       "      <td>0.14710</td>\n",
       "      <td>0.2419</td>\n",
       "      <td>0.07871</td>\n",
       "      <td>...</td>\n",
       "      <td>17.33</td>\n",
       "      <td>184.6</td>\n",
       "      <td>2019.0</td>\n",
       "      <td>0.1622</td>\n",
       "      <td>0.6656</td>\n",
       "      <td>0.7119</td>\n",
       "      <td>0.2654</td>\n",
       "      <td>0.4601</td>\n",
       "      <td>0.11890</td>\n",
       "      <td>0.0</td>\n",
       "    </tr>\n",
       "    <tr>\n",
       "      <th>1</th>\n",
       "      <td>20.57</td>\n",
       "      <td>17.77</td>\n",
       "      <td>132.9</td>\n",
       "      <td>1326.0</td>\n",
       "      <td>0.08474</td>\n",
       "      <td>0.07864</td>\n",
       "      <td>0.0869</td>\n",
       "      <td>0.07017</td>\n",
       "      <td>0.1812</td>\n",
       "      <td>0.05667</td>\n",
       "      <td>...</td>\n",
       "      <td>23.41</td>\n",
       "      <td>158.8</td>\n",
       "      <td>1956.0</td>\n",
       "      <td>0.1238</td>\n",
       "      <td>0.1866</td>\n",
       "      <td>0.2416</td>\n",
       "      <td>0.1860</td>\n",
       "      <td>0.2750</td>\n",
       "      <td>0.08902</td>\n",
       "      <td>0.0</td>\n",
       "    </tr>\n",
       "  </tbody>\n",
       "</table>\n",
       "<p>2 rows × 31 columns</p>\n",
       "</div>"
      ],
      "text/plain": [
       "   mean radius  mean texture  mean perimeter  mean area  mean smoothness  \\\n",
       "0        17.99         10.38           122.8     1001.0          0.11840   \n",
       "1        20.57         17.77           132.9     1326.0          0.08474   \n",
       "\n",
       "   mean compactness  mean concavity  mean concave points  mean symmetry  \\\n",
       "0           0.27760          0.3001              0.14710         0.2419   \n",
       "1           0.07864          0.0869              0.07017         0.1812   \n",
       "\n",
       "   mean fractal dimension  ...  worst texture  worst perimeter  worst area  \\\n",
       "0                 0.07871  ...          17.33            184.6      2019.0   \n",
       "1                 0.05667  ...          23.41            158.8      1956.0   \n",
       "\n",
       "   worst smoothness  worst compactness  worst concavity  worst concave points  \\\n",
       "0            0.1622             0.6656           0.7119                0.2654   \n",
       "1            0.1238             0.1866           0.2416                0.1860   \n",
       "\n",
       "   worst symmetry  worst fractal dimension  label  \n",
       "0          0.4601                  0.11890    0.0  \n",
       "1          0.2750                  0.08902    0.0  \n",
       "\n",
       "[2 rows x 31 columns]"
      ]
     },
     "execution_count": 3,
     "metadata": {},
     "output_type": "execute_result"
    }
   ],
   "source": [
    "# Finalização da montagem do dataset\n",
    "final = np.concatenate( [breast_data, labels], axis=1 )\n",
    "colunas = list(breast.feature_names)\n",
    "colunas.append(\"label\")\n",
    "\n",
    "df = pd.DataFrame(final, columns=colunas)\n",
    "df.head(2)"
   ]
  },
  {
   "cell_type": "markdown",
   "metadata": {},
   "source": [
    "### Análises preliminares"
   ]
  },
  {
   "cell_type": "code",
   "execution_count": 4,
   "metadata": {},
   "outputs": [
    {
     "name": "stdout",
     "output_type": "stream",
     "text": [
      "<class 'pandas.core.frame.DataFrame'>\n",
      "RangeIndex: 569 entries, 0 to 568\n",
      "Data columns (total 31 columns):\n",
      " #   Column                   Non-Null Count  Dtype  \n",
      "---  ------                   --------------  -----  \n",
      " 0   mean radius              569 non-null    float64\n",
      " 1   mean texture             569 non-null    float64\n",
      " 2   mean perimeter           569 non-null    float64\n",
      " 3   mean area                569 non-null    float64\n",
      " 4   mean smoothness          569 non-null    float64\n",
      " 5   mean compactness         569 non-null    float64\n",
      " 6   mean concavity           569 non-null    float64\n",
      " 7   mean concave points      569 non-null    float64\n",
      " 8   mean symmetry            569 non-null    float64\n",
      " 9   mean fractal dimension   569 non-null    float64\n",
      " 10  radius error             569 non-null    float64\n",
      " 11  texture error            569 non-null    float64\n",
      " 12  perimeter error          569 non-null    float64\n",
      " 13  area error               569 non-null    float64\n",
      " 14  smoothness error         569 non-null    float64\n",
      " 15  compactness error        569 non-null    float64\n",
      " 16  concavity error          569 non-null    float64\n",
      " 17  concave points error     569 non-null    float64\n",
      " 18  symmetry error           569 non-null    float64\n",
      " 19  fractal dimension error  569 non-null    float64\n",
      " 20  worst radius             569 non-null    float64\n",
      " 21  worst texture            569 non-null    float64\n",
      " 22  worst perimeter          569 non-null    float64\n",
      " 23  worst area               569 non-null    float64\n",
      " 24  worst smoothness         569 non-null    float64\n",
      " 25  worst compactness        569 non-null    float64\n",
      " 26  worst concavity          569 non-null    float64\n",
      " 27  worst concave points     569 non-null    float64\n",
      " 28  worst symmetry           569 non-null    float64\n",
      " 29  worst fractal dimension  569 non-null    float64\n",
      " 30  label                    569 non-null    float64\n",
      "dtypes: float64(31)\n",
      "memory usage: 137.9 KB\n"
     ]
    }
   ],
   "source": [
    "df.info() "
   ]
  },
  {
   "cell_type": "markdown",
   "metadata": {},
   "source": [
    "### Não há dados missing e o tipo das colunas já está como numérico"
   ]
  },
  {
   "cell_type": "code",
   "execution_count": 5,
   "metadata": {},
   "outputs": [
    {
     "data": {
      "text/plain": [
       "1.0    0.627417\n",
       "0.0    0.372583\n",
       "Name: label, dtype: float64"
      ]
     },
     "execution_count": 5,
     "metadata": {},
     "output_type": "execute_result"
    }
   ],
   "source": [
    "df['label'].value_counts(normalize=True)"
   ]
  },
  {
   "cell_type": "markdown",
   "metadata": {},
   "source": [
    "### A variável resposta está um pouco desequilibrada na base mas como a diferença não é tão grande vamos seguir assim"
   ]
  },
  {
   "cell_type": "code",
   "execution_count": 6,
   "metadata": {},
   "outputs": [],
   "source": [
    "X = df.drop(columns=[\"label\"])\n",
    "y = df['label']"
   ]
  },
  {
   "cell_type": "markdown",
   "metadata": {},
   "source": [
    "### Separação em treino e teste"
   ]
  },
  {
   "cell_type": "code",
   "execution_count": 7,
   "metadata": {},
   "outputs": [],
   "source": [
    "X_train, X_test, y_train, y_test = train_test_split(X, y, test_size=0.2, random_state=42)"
   ]
  },
  {
   "cell_type": "markdown",
   "metadata": {},
   "source": [
    "### Padronização dos dados"
   ]
  },
  {
   "cell_type": "code",
   "execution_count": 8,
   "metadata": {},
   "outputs": [],
   "source": [
    "from sklearn.preprocessing import StandardScaler\n",
    "scaler = StandardScaler()\n",
    "X_train_scaled = scaler.fit_transform(X_train) #Fit apenas na base de treino para obter a escala da normalização\n",
    "X_test_scaled = scaler.transform(X_test) # e transform na de teste para utilizar a mesma escala "
   ]
  },
  {
   "cell_type": "markdown",
   "metadata": {},
   "source": [
    "### Aplicação do PCA gerando 10 bases uma para cada variação de componentes principais"
   ]
  },
  {
   "cell_type": "code",
   "execution_count": 9,
   "metadata": {
    "scrolled": true
   },
   "outputs": [
    {
     "name": "stdout",
     "output_type": "stream",
     "text": [
      "Variavel: 1\n",
      "Acurácia:  0.9473684210526315\n",
      "Recall:  0.9333333333333333\n",
      "-------------------------------------------------------------------------------------------------------------\n",
      "Variavel: 2\n",
      "Acurácia:  0.9912280701754386\n",
      "Recall:  0.9861111111111112\n",
      "-------------------------------------------------------------------------------------------------------------\n",
      "Variavel: 3\n",
      "Acurácia:  0.9824561403508771\n",
      "Recall:  0.9726027397260274\n",
      "-------------------------------------------------------------------------------------------------------------\n",
      "Variavel: 4\n",
      "Acurácia:  0.9736842105263158\n",
      "Recall:  0.9722222222222222\n",
      "-------------------------------------------------------------------------------------------------------------\n",
      "Variavel: 5\n",
      "Acurácia:  0.9824561403508771\n",
      "Recall:  0.9859154929577465\n",
      "-------------------------------------------------------------------------------------------------------------\n",
      "Variavel: 6\n",
      "Acurácia:  0.9824561403508771\n",
      "Recall:  0.9859154929577465\n",
      "-------------------------------------------------------------------------------------------------------------\n",
      "Variavel: 7\n",
      "Acurácia:  0.9824561403508771\n",
      "Recall:  0.9859154929577465\n",
      "-------------------------------------------------------------------------------------------------------------\n",
      "Variavel: 8\n",
      "Acurácia:  0.9912280701754386\n",
      "Recall:  0.9861111111111112\n",
      "-------------------------------------------------------------------------------------------------------------\n",
      "Variavel: 9\n",
      "Acurácia:  0.9824561403508771\n",
      "Recall:  0.9859154929577465\n",
      "-------------------------------------------------------------------------------------------------------------\n",
      "Variavel: 10\n",
      "Acurácia:  0.9824561403508771\n",
      "Recall:  0.9859154929577465\n",
      "-------------------------------------------------------------------------------------------------------------\n"
     ]
    }
   ],
   "source": [
    "for n in range(1,11,1): \n",
    "    print(f'Variavel: {n}')\n",
    "    n_componentes=n\n",
    "    pca = PCA(n_components=n_componentes)\n",
    "    \n",
    "    #base treino\n",
    "    pca_breast_train = pca.fit_transform(X_train_scaled)\n",
    "    X_train_scaled_pca = pd.DataFrame(pca_breast_train,\n",
    "                          columns=[str(i+1)+\"ª CP\" for i in range (n_componentes)])\n",
    "    #base teste\n",
    "    pca_breast_test = pca.transform(X_test_scaled)\n",
    "    X_test_scaled_pca = pd.DataFrame(pca_breast_test,\n",
    "                          columns=[str(i+1)+\"ª CP\" for i in range (n_componentes)])\n",
    "    \n",
    "    #Modelo de regressão logística\n",
    "    clf = LogisticRegression(random_state=0).fit(X_train_scaled_pca, y_train)\n",
    "    print(\"Acurácia: \",clf.score(X_test_scaled_pca ,y_test))\n",
    "    print(\"Recall: \",recall_score(clf.predict(X_test_scaled_pca) ,y_test))\n",
    "    print(\"-------------------------------------------------------------------------------------------------------------\")"
   ]
  },
  {
   "cell_type": "markdown",
   "metadata": {},
   "source": [
    "### Foram utilizadas as métricas de acurácia para avaliar a assertividade total do modelo de regressão logística e o recall por se tratar de um modelo voltado para saúde, no qual é importante saber dos positivos quantos de fato foram classificados dessa forma."
   ]
  },
  {
   "cell_type": "markdown",
   "metadata": {},
   "source": [
    "### Os resultados com dois componentes principais apresentaram excelentes resultados. O de 8 CPs também, mas optaremos em seguir com o de 2 para tornar o modelo mais simples"
   ]
  },
  {
   "cell_type": "code",
   "execution_count": 10,
   "metadata": {},
   "outputs": [],
   "source": [
    "n_componentes=2\n",
    "pca = PCA(n_components=n_componentes)\n",
    "\n",
    "#base treino\n",
    "pca_breast_train = pca.fit_transform(X_train_scaled)\n",
    "X_train_scaled_pca = pd.DataFrame(pca_breast_train,\n",
    "                      columns=[str(i+1)+\"ª CP\" for i in range (n_componentes)])\n",
    "#base teste\n",
    "pca_breast_test = pca.transform(X_test_scaled)\n",
    "X_test_scaled_pca = pd.DataFrame(pca_breast_test,\n",
    "                      columns=[str(i+1)+\"ª CP\" for i in range (n_componentes)])"
   ]
  },
  {
   "cell_type": "markdown",
   "metadata": {},
   "source": [
    "### Modelo de regressão logística"
   ]
  },
  {
   "cell_type": "code",
   "execution_count": 11,
   "metadata": {},
   "outputs": [],
   "source": [
    "def logistic_regression(x_train,y_train,x_test,y_test):\n",
    "    clf = LogisticRegression(random_state=0).fit(x_train, y_train)\n",
    "    predict = clf.predict(x_test)\n",
    "    cm = confusion_matrix(y_test, predict)\n",
    "    disp = ConfusionMatrixDisplay(confusion_matrix=cm,display_labels=clf.classes_)\n",
    "    return print(\"Acurácia: \",clf.score(x_test ,y_test)),print(\"Recall: \",recall_score(clf.predict(x_test) ,y_test)), disp.plot(),plt.show()"
   ]
  },
  {
   "cell_type": "code",
   "execution_count": 12,
   "metadata": {},
   "outputs": [
    {
     "name": "stdout",
     "output_type": "stream",
     "text": [
      "Acurácia:  0.9912280701754386\n",
      "Recall:  0.9861111111111112\n"
     ]
    },
    {
     "data": {
      "image/png": "[encoded data removed]",
      "text/plain": [
       "<Figure size 432x288 with 2 Axes>"
      ]
     },
     "metadata": {
      "needs_background": "light"
     },
     "output_type": "display_data"
    }
   ],
   "source": [
    "logistic_regression(X_train_scaled_pca,y_train,X_test_scaled_pca,y_test);"
   ]
  },
  {
   "cell_type": "markdown",
   "metadata": {},
   "source": [
    "### Support Vector Machine"
   ]
  },
  {
   "cell_type": "code",
   "execution_count": 13,
   "metadata": {},
   "outputs": [],
   "source": [
    "def svm_model(x_train,y_train,x_test,y_test):\n",
    "    clf_svm = svm.SVC(kernel='linear',max_iter=40000) #Foi aumentado o máximo de interações a fim de melhorar o desempenho\n",
    "    clf_svm.fit(x_train, y_train)\n",
    "    y_pred_svm = clf_svm.predict(x_test)\n",
    "    cm = confusion_matrix(y_test, y_pred_svm, labels=clf_svm.classes_)\n",
    "    disp = ConfusionMatrixDisplay(confusion_matrix=cm,display_labels=clf_svm.classes_)\n",
    "    return print(\"Acurácia: \",clf_svm.score(x_test ,y_test)),print(\"Recall: \",recall_score(clf_svm.predict(x_test) ,y_test)), disp.plot(),plt.show()"
   ]
  },
  {
   "cell_type": "code",
   "execution_count": 14,
   "metadata": {},
   "outputs": [
    {
     "name": "stdout",
     "output_type": "stream",
     "text": [
      "Acurácia:  0.9912280701754386\n",
      "Recall:  0.9861111111111112\n"
     ]
    },
    {
     "data": {
      "image/png": "[encoded data removed]",
      "text/plain": [
       "<Figure size 432x288 with 2 Axes>"
      ]
     },
     "metadata": {
      "needs_background": "light"
     },
     "output_type": "display_data"
    }
   ],
   "source": [
    "svm_model(X_train_scaled_pca,y_train,X_test_scaled_pca,y_test);"
   ]
  },
  {
   "cell_type": "markdown",
   "metadata": {},
   "source": [
    "### Modelo de Random Forest"
   ]
  },
  {
   "cell_type": "code",
   "execution_count": 15,
   "metadata": {},
   "outputs": [],
   "source": [
    "def rf_model(x_train,y_train,x_test,y_test):\n",
    "    rfc = RandomForestClassifier()\n",
    "    rfc.fit(x_train, y_train)\n",
    "    y_pred_rf=rfc.predict(x_test)\n",
    "    cm = confusion_matrix(y_test, y_pred_rf, labels=clf.classes_)\n",
    "    disp = ConfusionMatrixDisplay(confusion_matrix=cm,display_labels=rfc.classes_)\n",
    "    return print(\"Acurácia: \",rfc.score(x_test ,y_test)),print(\"Recall: \",recall_score(rfc.predict(x_test) ,y_test)), disp.plot(),plt.show()"
   ]
  },
  {
   "cell_type": "code",
   "execution_count": 16,
   "metadata": {},
   "outputs": [
    {
     "name": "stdout",
     "output_type": "stream",
     "text": [
      "Acurácia:  0.9824561403508771\n",
      "Recall:  0.9726027397260274\n"
     ]
    },
    {
     "data": {
      "image/png": "[encoded data removed]",
      "text/plain": [
       "<Figure size 432x288 with 2 Axes>"
      ]
     },
     "metadata": {
      "needs_background": "light"
     },
     "output_type": "display_data"
    }
   ],
   "source": [
    "rf_model(X_train_scaled_pca,y_train,X_test_scaled_pca,y_test);"
   ]
  },
  {
   "cell_type": "markdown",
   "metadata": {},
   "source": [
    "### O modelo de regressão logística por ter sido o modelo de mais fácil explicação e um dos que obteve o melhor resultado na base de PCA com 2 componentes principais. poderia ser o escolhido para este tipo de problema."
   ]
  },
  {
   "cell_type": "code",
   "execution_count": 17,
   "metadata": {
    "scrolled": true
   },
   "outputs": [
    {
     "name": "stdout",
     "output_type": "stream",
     "text": [
      "Acurácia:  0.9912280701754386\n",
      "Recall:  0.9861111111111112\n"
     ]
    },
    {
     "data": {
      "image/png": "[encoded data removed]",
      "text/plain": [
       "<Figure size 432x288 with 2 Axes>"
      ]
     },
     "metadata": {
      "needs_background": "light"
     },
     "output_type": "display_data"
    }
   ],
   "source": [
    "logistic_regression(X_train_scaled_pca,y_train,X_test_scaled_pca,y_test);"
   ]
  }
 ],
 "metadata": {
  "colab": {
   "name": "TIAR2022_ML_PCAipynb",
   "provenance": []
  },
  "kernelspec": {
   "display_name": "Python 3 (ipykernel)",
   "language": "python",
   "name": "python3"
  },
  "language_info": {
   "codemirror_mode": {
    "name": "ipython",
    "version": 3
   },
   "file_extension": ".py",
   "mimetype": "text/x-python",
   "name": "python",
   "nbconvert_exporter": "python",
   "pygments_lexer": "ipython3",
   "version": "3.10.5"
  }
 },
 "nbformat": 4,
 "nbformat_minor": 4
}
