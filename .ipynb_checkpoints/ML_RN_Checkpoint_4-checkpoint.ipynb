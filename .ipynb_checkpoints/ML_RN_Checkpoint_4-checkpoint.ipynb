{
 "cells": [
  {
   "cell_type": "markdown",
   "metadata": {
    "id": "O481ga5RuZf2"
   },
   "source": [
    "FIAP - Tecnólogo em Inteligência Artificial\n",
    "\n",
    "# Checkpoint 04\n",
    "\n",
    "Faça o exercício abaixo <font color=\"red\">individualmente</font>, para praticar o uso do `sklearn` em Machine Learning. Utilize os conceitos vistos em aula, e consulte [documentações](https://scikit-learn.org/stable/) na internet. Em caso de dúvidas, contate o Prof. Michel. \n",
    "\n",
    "**Entrega**: 18/setembro/2022, via Teams.\n",
    "\n",
    "\n",
    "## Apresentação do trabalho\n",
    "\n",
    "Neste checkpoint vamos trabalhar com modelagem de dados em bases de dimensionalidade reduzida em relação à base original. \n",
    "\n",
    "Para isso, você deve: \n",
    "\n",
    "- Utilizar a base de câncer de mama que vimos na aula de PCA\n",
    "- Ler/carregar/montar o dataset original\n",
    "- Dividir DADOS  e LABELS\n",
    "- Dividir TREINO e TESTE \n",
    "- Padronizar os dados \n",
    "- Reduzir a dimensionalidade com PCA \n",
    "- Sobre o dataset reduzido (componentes principais), aplicar o modelo de *Regressão Logística* para consturir o classificador\n",
    "- Escolha outros **2 modelos** de classificação para avaliar a performance no mesmo conjunto de dados\n",
    "- Calcular os resultados e comentar brevemente seus achados\n",
    "\n",
    "\n",
    "*Desafio!*: faça o código modularizado para avaliar os efeitos da redução de dimensionalidade para N componentes diferentes, avaliando o efeito da classificação com números distintos de componentes principais \n",
    "\n",
    "\n",
    "\n",
    "**Critérios de avaliação**: A correção do checkpoint será feita mediante os seguintes critérios:\n",
    "- qualidade da compreensão e exploração da base\n",
    "- formas de padronizar os dados selecionados\n",
    "- completute de atendimento ao pipeline de machine learning\n",
    "- emprego correto dos conceitos vistos em sala de aula (uso do dataset, métricas, etc)\n",
    "- análise/justificativas dos resultados\n"
   ]
  },
  {
   "cell_type": "code",
   "execution_count": 1,
   "metadata": {
    "id": "QGuoocbGuV6R"
   },
   "outputs": [],
   "source": [
    "import pandas as pd\n",
    "import numpy as np\n",
    "import matplotlib.pyplot as plt\n",
    "from collections import Counter\n",
    "\n",
    "from sklearn.datasets import load_breast_cancer"
   ]
  },
  {
   "cell_type": "markdown",
   "metadata": {},
   "source": [
    "#### Carregar os dados e montando o dataset"
   ]
  },
  {
   "cell_type": "code",
   "execution_count": 2,
   "metadata": {
    "id": "GrkN-Almu4zH"
   },
   "outputs": [],
   "source": [
    "breast = load_breast_cancer()\n",
    "breast_data = breast.data\n",
    "labels = np.reshape(breast.target, (569, 1))\n",
    "concat_data = np.concatenate([breast_data, labels], axis=1)\n",
    "cols = list(breast.feature_names)\n",
    "cols.append(\"labels\")\n",
    "\n",
    "df = pd.DataFrame(concat_data, columns=cols)"
   ]
  },
  {
   "cell_type": "markdown",
   "metadata": {},
   "source": [
    "#### Carregando 5 registros iniciais"
   ]
  },
  {
   "cell_type": "code",
   "execution_count": 3,
   "metadata": {
    "id": "vZIkup7evDJ3"
   },
   "outputs": [
    {
     "data": {
      "text/html": [
       "<div>\n",
       "<style scoped>\n",
       "    .dataframe tbody tr th:only-of-type {\n",
       "        vertical-align: middle;\n",
       "    }\n",
       "\n",
       "    .dataframe tbody tr th {\n",
       "        vertical-align: top;\n",
       "    }\n",
       "\n",
       "    .dataframe thead th {\n",
       "        text-align: right;\n",
       "    }\n",
       "</style>\n",
       "<table border=\"1\" class=\"dataframe\">\n",
       "  <thead>\n",
       "    <tr style=\"text-align: right;\">\n",
       "      <th></th>\n",
       "      <th>mean radius</th>\n",
       "      <th>mean texture</th>\n",
       "      <th>mean perimeter</th>\n",
       "      <th>mean area</th>\n",
       "      <th>mean smoothness</th>\n",
       "      <th>mean compactness</th>\n",
       "      <th>mean concavity</th>\n",
       "      <th>mean concave points</th>\n",
       "      <th>mean symmetry</th>\n",
       "      <th>mean fractal dimension</th>\n",
       "      <th>...</th>\n",
       "      <th>worst texture</th>\n",
       "      <th>worst perimeter</th>\n",
       "      <th>worst area</th>\n",
       "      <th>worst smoothness</th>\n",
       "      <th>worst compactness</th>\n",
       "      <th>worst concavity</th>\n",
       "      <th>worst concave points</th>\n",
       "      <th>worst symmetry</th>\n",
       "      <th>worst fractal dimension</th>\n",
       "      <th>labels</th>\n",
       "    </tr>\n",
       "  </thead>\n",
       "  <tbody>\n",
       "    <tr>\n",
       "      <th>0</th>\n",
       "      <td>17.99</td>\n",
       "      <td>10.38</td>\n",
       "      <td>122.80</td>\n",
       "      <td>1001.0</td>\n",
       "      <td>0.11840</td>\n",
       "      <td>0.27760</td>\n",
       "      <td>0.3001</td>\n",
       "      <td>0.14710</td>\n",
       "      <td>0.2419</td>\n",
       "      <td>0.07871</td>\n",
       "      <td>...</td>\n",
       "      <td>17.33</td>\n",
       "      <td>184.60</td>\n",
       "      <td>2019.0</td>\n",
       "      <td>0.1622</td>\n",
       "      <td>0.6656</td>\n",
       "      <td>0.7119</td>\n",
       "      <td>0.2654</td>\n",
       "      <td>0.4601</td>\n",
       "      <td>0.11890</td>\n",
       "      <td>0.0</td>\n",
       "    </tr>\n",
       "    <tr>\n",
       "      <th>1</th>\n",
       "      <td>20.57</td>\n",
       "      <td>17.77</td>\n",
       "      <td>132.90</td>\n",
       "      <td>1326.0</td>\n",
       "      <td>0.08474</td>\n",
       "      <td>0.07864</td>\n",
       "      <td>0.0869</td>\n",
       "      <td>0.07017</td>\n",
       "      <td>0.1812</td>\n",
       "      <td>0.05667</td>\n",
       "      <td>...</td>\n",
       "      <td>23.41</td>\n",
       "      <td>158.80</td>\n",
       "      <td>1956.0</td>\n",
       "      <td>0.1238</td>\n",
       "      <td>0.1866</td>\n",
       "      <td>0.2416</td>\n",
       "      <td>0.1860</td>\n",
       "      <td>0.2750</td>\n",
       "      <td>0.08902</td>\n",
       "      <td>0.0</td>\n",
       "    </tr>\n",
       "    <tr>\n",
       "      <th>2</th>\n",
       "      <td>19.69</td>\n",
       "      <td>21.25</td>\n",
       "      <td>130.00</td>\n",
       "      <td>1203.0</td>\n",
       "      <td>0.10960</td>\n",
       "      <td>0.15990</td>\n",
       "      <td>0.1974</td>\n",
       "      <td>0.12790</td>\n",
       "      <td>0.2069</td>\n",
       "      <td>0.05999</td>\n",
       "      <td>...</td>\n",
       "      <td>25.53</td>\n",
       "      <td>152.50</td>\n",
       "      <td>1709.0</td>\n",
       "      <td>0.1444</td>\n",
       "      <td>0.4245</td>\n",
       "      <td>0.4504</td>\n",
       "      <td>0.2430</td>\n",
       "      <td>0.3613</td>\n",
       "      <td>0.08758</td>\n",
       "      <td>0.0</td>\n",
       "    </tr>\n",
       "    <tr>\n",
       "      <th>3</th>\n",
       "      <td>11.42</td>\n",
       "      <td>20.38</td>\n",
       "      <td>77.58</td>\n",
       "      <td>386.1</td>\n",
       "      <td>0.14250</td>\n",
       "      <td>0.28390</td>\n",
       "      <td>0.2414</td>\n",
       "      <td>0.10520</td>\n",
       "      <td>0.2597</td>\n",
       "      <td>0.09744</td>\n",
       "      <td>...</td>\n",
       "      <td>26.50</td>\n",
       "      <td>98.87</td>\n",
       "      <td>567.7</td>\n",
       "      <td>0.2098</td>\n",
       "      <td>0.8663</td>\n",
       "      <td>0.6869</td>\n",
       "      <td>0.2575</td>\n",
       "      <td>0.6638</td>\n",
       "      <td>0.17300</td>\n",
       "      <td>0.0</td>\n",
       "    </tr>\n",
       "    <tr>\n",
       "      <th>4</th>\n",
       "      <td>20.29</td>\n",
       "      <td>14.34</td>\n",
       "      <td>135.10</td>\n",
       "      <td>1297.0</td>\n",
       "      <td>0.10030</td>\n",
       "      <td>0.13280</td>\n",
       "      <td>0.1980</td>\n",
       "      <td>0.10430</td>\n",
       "      <td>0.1809</td>\n",
       "      <td>0.05883</td>\n",
       "      <td>...</td>\n",
       "      <td>16.67</td>\n",
       "      <td>152.20</td>\n",
       "      <td>1575.0</td>\n",
       "      <td>0.1374</td>\n",
       "      <td>0.2050</td>\n",
       "      <td>0.4000</td>\n",
       "      <td>0.1625</td>\n",
       "      <td>0.2364</td>\n",
       "      <td>0.07678</td>\n",
       "      <td>0.0</td>\n",
       "    </tr>\n",
       "  </tbody>\n",
       "</table>\n",
       "<p>5 rows × 31 columns</p>\n",
       "</div>"
      ],
      "text/plain": [
       "   mean radius  mean texture  mean perimeter  mean area  mean smoothness  \\\n",
       "0        17.99         10.38          122.80     1001.0          0.11840   \n",
       "1        20.57         17.77          132.90     1326.0          0.08474   \n",
       "2        19.69         21.25          130.00     1203.0          0.10960   \n",
       "3        11.42         20.38           77.58      386.1          0.14250   \n",
       "4        20.29         14.34          135.10     1297.0          0.10030   \n",
       "\n",
       "   mean compactness  mean concavity  mean concave points  mean symmetry  \\\n",
       "0           0.27760          0.3001              0.14710         0.2419   \n",
       "1           0.07864          0.0869              0.07017         0.1812   \n",
       "2           0.15990          0.1974              0.12790         0.2069   \n",
       "3           0.28390          0.2414              0.10520         0.2597   \n",
       "4           0.13280          0.1980              0.10430         0.1809   \n",
       "\n",
       "   mean fractal dimension  ...  worst texture  worst perimeter  worst area  \\\n",
       "0                 0.07871  ...          17.33           184.60      2019.0   \n",
       "1                 0.05667  ...          23.41           158.80      1956.0   \n",
       "2                 0.05999  ...          25.53           152.50      1709.0   \n",
       "3                 0.09744  ...          26.50            98.87       567.7   \n",
       "4                 0.05883  ...          16.67           152.20      1575.0   \n",
       "\n",
       "   worst smoothness  worst compactness  worst concavity  worst concave points  \\\n",
       "0            0.1622             0.6656           0.7119                0.2654   \n",
       "1            0.1238             0.1866           0.2416                0.1860   \n",
       "2            0.1444             0.4245           0.4504                0.2430   \n",
       "3            0.2098             0.8663           0.6869                0.2575   \n",
       "4            0.1374             0.2050           0.4000                0.1625   \n",
       "\n",
       "   worst symmetry  worst fractal dimension  labels  \n",
       "0          0.4601                  0.11890     0.0  \n",
       "1          0.2750                  0.08902     0.0  \n",
       "2          0.3613                  0.08758     0.0  \n",
       "3          0.6638                  0.17300     0.0  \n",
       "4          0.2364                  0.07678     0.0  \n",
       "\n",
       "[5 rows x 31 columns]"
      ]
     },
     "execution_count": 3,
     "metadata": {},
     "output_type": "execute_result"
    }
   ],
   "source": [
    "df.head(5)"
   ]
  },
  {
   "cell_type": "code",
   "execution_count": 4,
   "metadata": {},
   "outputs": [
    {
     "name": "stdout",
     "output_type": "stream",
     "text": [
      "<class 'pandas.core.frame.DataFrame'>\n",
      "RangeIndex: 569 entries, 0 to 568\n",
      "Data columns (total 31 columns):\n",
      " #   Column                   Non-Null Count  Dtype  \n",
      "---  ------                   --------------  -----  \n",
      " 0   mean radius              569 non-null    float64\n",
      " 1   mean texture             569 non-null    float64\n",
      " 2   mean perimeter           569 non-null    float64\n",
      " 3   mean area                569 non-null    float64\n",
      " 4   mean smoothness          569 non-null    float64\n",
      " 5   mean compactness         569 non-null    float64\n",
      " 6   mean concavity           569 non-null    float64\n",
      " 7   mean concave points      569 non-null    float64\n",
      " 8   mean symmetry            569 non-null    float64\n",
      " 9   mean fractal dimension   569 non-null    float64\n",
      " 10  radius error             569 non-null    float64\n",
      " 11  texture error            569 non-null    float64\n",
      " 12  perimeter error          569 non-null    float64\n",
      " 13  area error               569 non-null    float64\n",
      " 14  smoothness error         569 non-null    float64\n",
      " 15  compactness error        569 non-null    float64\n",
      " 16  concavity error          569 non-null    float64\n",
      " 17  concave points error     569 non-null    float64\n",
      " 18  symmetry error           569 non-null    float64\n",
      " 19  fractal dimension error  569 non-null    float64\n",
      " 20  worst radius             569 non-null    float64\n",
      " 21  worst texture            569 non-null    float64\n",
      " 22  worst perimeter          569 non-null    float64\n",
      " 23  worst area               569 non-null    float64\n",
      " 24  worst smoothness         569 non-null    float64\n",
      " 25  worst compactness        569 non-null    float64\n",
      " 26  worst concavity          569 non-null    float64\n",
      " 27  worst concave points     569 non-null    float64\n",
      " 28  worst symmetry           569 non-null    float64\n",
      " 29  worst fractal dimension  569 non-null    float64\n",
      " 30  labels                   569 non-null    float64\n",
      "dtypes: float64(31)\n",
      "memory usage: 137.9 KB\n"
     ]
    }
   ],
   "source": [
    "df.info() "
   ]
  },
  {
   "cell_type": "code",
   "execution_count": 5,
   "metadata": {},
   "outputs": [
    {
     "data": {
      "text/plain": [
       "1.0    0.627417\n",
       "0.0    0.372583\n",
       "Name: labels, dtype: float64"
      ]
     },
     "execution_count": 5,
     "metadata": {},
     "output_type": "execute_result"
    }
   ],
   "source": [
    "df['labels'].value_counts(normalize=True)"
   ]
  },
  {
   "cell_type": "markdown",
   "metadata": {},
   "source": [
    "#### Análises preliminares\n",
    "Há um desequilibrio nos dados de resposta contidos na base, mas isso não interfere na análise."
   ]
  },
  {
   "cell_type": "code",
   "execution_count": 6,
   "metadata": {},
   "outputs": [],
   "source": [
    "X = df.drop(columns=[\"labels\"])\n",
    "y = df['labels']"
   ]
  },
  {
   "cell_type": "markdown",
   "metadata": {},
   "source": [
    "#### Separação dos dados de treino e teste\n",
    "Separamos os dados de treino e teste, onde utilizaremos 30% dos dados para teste e o random state de 45."
   ]
  },
  {
   "cell_type": "code",
   "execution_count": 9,
   "metadata": {},
   "outputs": [],
   "source": [
    "from sklearn.model_selection import train_test_split"
   ]
  },
  {
   "cell_type": "code",
   "execution_count": 10,
   "metadata": {},
   "outputs": [],
   "source": [
    "X_train, X_test, y_train, y_test = train_test_split(X, y, test_size=0.3, random_state=45)"
   ]
  },
  {
   "cell_type": "markdown",
   "metadata": {},
   "source": [
    "#### Padronização dos dados de treino e teste\n",
    "Incluímos Fit apenas nos dados de treino para obter a escala da normalização e transform nos dados de teste para utilizar a mesma escala. "
   ]
  },
  {
   "cell_type": "code",
   "execution_count": 11,
   "metadata": {},
   "outputs": [],
   "source": [
    "from sklearn.preprocessing import StandardScaler"
   ]
  },
  {
   "cell_type": "code",
   "execution_count": 12,
   "metadata": {},
   "outputs": [],
   "source": [
    "scaler = StandardScaler()\n",
    "X_train_scaled = scaler.fit_transform(X_train) \n",
    "X_test_scaled = scaler.transform(X_test)"
   ]
  },
  {
   "cell_type": "markdown",
   "metadata": {},
   "source": [
    "#### Aplicação PCA\n",
    "Aplicamos o PCA gerando dez bases, sendo uma para cada variação de componentes principais"
   ]
  },
  {
   "cell_type": "code",
   "execution_count": 13,
   "metadata": {},
   "outputs": [],
   "source": [
    "from sklearn.decomposition import PCA\n",
    "from sklearn.metrics import recall_score\n",
    "from sklearn.linear_model import LogisticRegression"
   ]
  },
  {
   "cell_type": "code",
   "execution_count": 21,
   "metadata": {
    "scrolled": true
   },
   "outputs": [
    {
     "name": "stdout",
     "output_type": "stream",
     "text": [
      "Variavel: 1\n",
      "Accuracy:  0.9239766081871345\n",
      "Recall:  0.9217391304347826\n",
      "------------------------------------------------------------------\n",
      "Variavel: 2\n",
      "Accuracy:  0.9649122807017544\n",
      "Recall:  0.9642857142857143\n",
      "------------------------------------------------------------------\n",
      "Variavel: 3\n",
      "Accuracy:  0.9415204678362573\n",
      "Recall:  0.9385964912280702\n",
      "------------------------------------------------------------------\n",
      "Variavel: 4\n",
      "Accuracy:  0.9766081871345029\n",
      "Recall:  0.9649122807017544\n",
      "------------------------------------------------------------------\n",
      "Variavel: 5\n",
      "Accuracy:  0.9824561403508771\n",
      "Recall:  0.9734513274336283\n",
      "------------------------------------------------------------------\n",
      "Variavel: 6\n",
      "Accuracy:  0.9883040935672515\n",
      "Recall:  0.9821428571428571\n",
      "------------------------------------------------------------------\n",
      "Variavel: 7\n",
      "Accuracy:  0.9824561403508771\n",
      "Recall:  0.9734513274336283\n",
      "------------------------------------------------------------------\n",
      "Variavel: 8\n",
      "Accuracy:  0.9883040935672515\n",
      "Recall:  0.9821428571428571\n",
      "------------------------------------------------------------------\n",
      "Variavel: 9\n",
      "Accuracy:  0.9883040935672515\n",
      "Recall:  0.9821428571428571\n",
      "------------------------------------------------------------------\n",
      "Variavel: 10\n",
      "Accuracy:  0.9883040935672515\n",
      "Recall:  0.9821428571428571\n",
      "------------------------------------------------------------------\n"
     ]
    }
   ],
   "source": [
    "for n in range(1,11):\n",
    "    print(f'Variavel: {n}')\n",
    "    num_comp = n\n",
    "    pca = PCA(n_components=num_comp)\n",
    "    \n",
    "    pca_breast_train = pca.fit_transform(X_train_scaled)\n",
    "    X_train_scaled_pca = pd.DataFrame(pca_breast_train,\n",
    "                          columns=[str(i+1)+\"ª CP\" for i in range(num_comp)])\n",
    "    \n",
    "    pca_breast_test = pca.transform(X_test_scaled)\n",
    "    X_test_scaled_pca = pd.DataFrame(pca_breast_test,\n",
    "                          columns=[str(i+1)+\"ª CP\" for i in range(num_comp)])\n",
    "    \n",
    "    clf = LogisticRegression(random_state=0).fit(X_train_scaled_pca, y_train)\n",
    "    print(\"Accuracy: \", clf.score(X_test_scaled_pca ,y_test))\n",
    "    print(\"Recall: \", recall_score(clf.predict(X_test_scaled_pca) ,y_test))\n",
    "    print(\"------------------------------------------------------------------\")"
   ]
  },
  {
   "cell_type": "markdown",
   "metadata": {},
   "source": [
    "Foram utilizadas métricas de **Accuracy** para avaliar o nível de assertividade total do modelo de **Logistic Regression** e o **Recall** por se tratar de um modelo voltado para saúde, o qual é importante identificar os dados que foram classificados positivamente."
   ]
  },
  {
   "cell_type": "code",
   "execution_count": 33,
   "metadata": {
    "scrolled": false
   },
   "outputs": [],
   "source": [
    "num_comp = 5\n",
    "pca = PCA(n_components = num_comp)\n",
    "\n",
    "pca_breast_train = pca.fit_transform(X_train_scaled)\n",
    "X_train_scaled_pca = pd.DataFrame(pca_breast_train,\n",
    "                      columns=[str(i+1)+\"ª CP\" for i in range(num_comp)])\n",
    "\n",
    "pca_breast_test = pca.transform(X_test_scaled)\n",
    "X_test_scaled_pca = pd.DataFrame(pca_breast_test,\n",
    "                      columns=[str(i+1)+\"ª CP\" for i in range(num_comp)])"
   ]
  },
  {
   "cell_type": "markdown",
   "metadata": {},
   "source": [
    "Visando manter o modelo mais simples, deixei o modelo com cinco componentes pois seus resultados foram excelentes."
   ]
  },
  {
   "cell_type": "markdown",
   "metadata": {},
   "source": [
    "#### Aplicando o modelo de Logistic Regression"
   ]
  },
  {
   "cell_type": "code",
   "execution_count": 34,
   "metadata": {},
   "outputs": [],
   "source": [
    "from sklearn.metrics import confusion_matrix,ConfusionMatrixDisplay"
   ]
  },
  {
   "cell_type": "code",
   "execution_count": 40,
   "metadata": {},
   "outputs": [],
   "source": [
    "def logistic_regression(x_train, y_train, x_test, y_test):\n",
    "    clf = LogisticRegression(random_state=0).fit(x_train, y_train)\n",
    "    predict = clf.predict(x_test)\n",
    "    cm = confusion_matrix(y_test, predict)\n",
    "    disp = ConfusionMatrixDisplay(confusion_matrix = cm, display_labels = clf.classes_)\n",
    "    return print(\"Accuracy: \", clf.score(x_test ,y_test)), print(\"Recall: \", recall_score(clf.predict(x_test) ,y_test)), disp.plot(),plt.show()"
   ]
  },
  {
   "cell_type": "code",
   "execution_count": 41,
   "metadata": {},
   "outputs": [
    {
     "name": "stdout",
     "output_type": "stream",
     "text": [
      "Accuracy:  0.9824561403508771\n",
      "Recall:  0.9734513274336283\n"
     ]
    },
    {
     "data": {
      "image/png": "[encoded data removed]",
      "text/plain": [
       "<Figure size 432x288 with 2 Axes>"
      ]
     },
     "metadata": {
      "needs_background": "light"
     },
     "output_type": "display_data"
    }
   ],
   "source": [
    "logistic_regression(X_train_scaled_pca,y_train,X_test_scaled_pca,y_test);"
   ]
  },
  {
   "cell_type": "markdown",
   "metadata": {},
   "source": [
    "#### Aplicando Support Vector Machine"
   ]
  },
  {
   "cell_type": "code",
   "execution_count": 42,
   "metadata": {},
   "outputs": [],
   "source": [
    "from sklearn import svm\n",
    "from sklearn.svm import SVC"
   ]
  },
  {
   "cell_type": "code",
   "execution_count": 43,
   "metadata": {},
   "outputs": [],
   "source": [
    "def svm_model(x_train, y_train, x_test, y_test):\n",
    "    clf_svm = svm.SVC(kernel = 'linear', max_iter = 50000)\n",
    "    clf_svm.fit(x_train, y_train)\n",
    "    y_pred_svm = clf_svm.predict(x_test)\n",
    "    cm = confusion_matrix(y_test, y_pred_svm, labels = clf_svm.classes_)\n",
    "    disp = ConfusionMatrixDisplay(confusion_matrix = cm, display_labels = clf_svm.classes_)\n",
    "    return print(\"Accuracy: \", clf_svm.score(x_test ,y_test)), print(\"Recall: \", recall_score(clf_svm.predict(x_test) ,y_test)), disp.plot(),plt.show()"
   ]
  },
  {
   "cell_type": "code",
   "execution_count": 44,
   "metadata": {},
   "outputs": [
    {
     "name": "stdout",
     "output_type": "stream",
     "text": [
      "Accuracy:  0.9824561403508771\n",
      "Recall:  0.9734513274336283\n"
     ]
    },
    {
     "data": {
      "image/png": "[encoded data removed]",
      "text/plain": [
       "<Figure size 432x288 with 2 Axes>"
      ]
     },
     "metadata": {
      "needs_background": "light"
     },
     "output_type": "display_data"
    }
   ],
   "source": [
    "svm_model(X_train_scaled_pca,y_train,X_test_scaled_pca,y_test);"
   ]
  },
  {
   "cell_type": "markdown",
   "metadata": {},
   "source": [
    "Foi incrementado o valor máximo de interações com o intuíto de melhorar o desempenho do modelo."
   ]
  },
  {
   "cell_type": "markdown",
   "metadata": {},
   "source": [
    "#### Aplicando o modelo de Random Forest"
   ]
  },
  {
   "cell_type": "code",
   "execution_count": 45,
   "metadata": {},
   "outputs": [],
   "source": [
    "from sklearn.ensemble import RandomForestClassifier"
   ]
  },
  {
   "cell_type": "code",
   "execution_count": 46,
   "metadata": {},
   "outputs": [],
   "source": [
    "def rf_model(x_train, y_train, x_test, y_test):\n",
    "    rfc = RandomForestClassifier()\n",
    "    rfc.fit(x_train, y_train)\n",
    "    y_pred_rf = rfc.predict(x_test)\n",
    "    cm = confusion_matrix(y_test, y_pred_rf, labels = clf.classes_)\n",
    "    disp = ConfusionMatrixDisplay(confusion_matrix = cm,display_labels = rfc.classes_)\n",
    "    return print(\"Accuracy: \", rfc.score(x_test ,y_test)), print(\"Recall: \", recall_score(rfc.predict(x_test) ,y_test)), disp.plot(),plt.show()"
   ]
  },
  {
   "cell_type": "code",
   "execution_count": 47,
   "metadata": {},
   "outputs": [
    {
     "name": "stdout",
     "output_type": "stream",
     "text": [
      "Accuracy:  0.9649122807017544\n",
      "Recall:  0.9642857142857143\n"
     ]
    },
    {
     "data": {
      "image/png": "[encoded data removed]",
      "text/plain": [
       "<Figure size 432x288 with 2 Axes>"
      ]
     },
     "metadata": {
      "needs_background": "light"
     },
     "output_type": "display_data"
    }
   ],
   "source": [
    "rf_model(X_train_scaled_pca,y_train,X_test_scaled_pca,y_test);"
   ]
  },
  {
   "cell_type": "code",
   "execution_count": 48,
   "metadata": {
    "scrolled": true
   },
   "outputs": [
    {
     "name": "stdout",
     "output_type": "stream",
     "text": [
      "Accuracy:  0.9824561403508771\n",
      "Recall:  0.9734513274336283\n"
     ]
    },
    {
     "data": {
      "image/png": "[encoded data removed]",
      "text/plain": [
       "<Figure size 432x288 with 2 Axes>"
      ]
     },
     "metadata": {
      "needs_background": "light"
     },
     "output_type": "display_data"
    }
   ],
   "source": [
    "logistic_regression(X_train_scaled_pca,y_train,X_test_scaled_pca,y_test);"
   ]
  },
  {
   "cell_type": "markdown",
   "metadata": {},
   "source": [
    "#### Conclusão final:\n",
    "\n",
    "O modelo de **Logistic Regression** por ser de fácil explicação obteve os melhores resultado na base de PCA com **cinco** componentes principais.\n",
    "Para este tipo de problema seria a melhor escolha com base nos resultados, redução de recursos a serem utilizados e consequentemente de custos do projeto."
   ]
  }
 ],
 "metadata": {
  "colab": {
   "name": "TIAR2022_ML_PCAipynb",
   "provenance": []
  },
  "kernelspec": {
   "display_name": "Python 3 (ipykernel)",
   "language": "python",
   "name": "python3"
  },
  "language_info": {
   "codemirror_mode": {
    "name": "ipython",
    "version": 3
   },
   "file_extension": ".py",
   "mimetype": "text/x-python",
   "name": "python",
   "nbconvert_exporter": "python",
   "pygments_lexer": "ipython3",
   "version": "3.9.7"
  },
  "vscode": {
   "interpreter": {
    "hash": "3d43adbd8955cbcb80c57add0ff43e5902e17064c16339b0b79e76530a252eb0"
   }
  }
 },
 "nbformat": 4,
 "nbformat_minor": 1
}
